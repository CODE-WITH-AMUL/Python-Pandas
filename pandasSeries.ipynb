{
 "cells": [
  {
   "cell_type": "markdown",
   "id": "bfc6cb44",
   "metadata": {},
   "source": [
    "What is Series in python ?\n",
    "answer : Series in python just like an Colums in an table\n",
    "\n",
    "or its an single dimensional array \n",
    "\n",
    "Single dimensional array means that the lenar collection of element of the same data type "
   ]
  },
  {
   "cell_type": "code",
   "execution_count": 2,
   "id": "73de9095",
   "metadata": {},
   "outputs": [
    {
     "name": "stdout",
     "output_type": "stream",
     "text": [
      "0    1\n",
      "1    2\n",
      "2    3\n",
      "3    4\n",
      "4    5\n",
      "5    6\n",
      "6    7\n",
      "7    8\n",
      "8    9\n",
      "dtype: int64\n"
     ]
    }
   ],
   "source": [
    "#utf-8 Basic example of the series \n",
    "import pandas as pd\n",
    "\n",
    "# Down hera is the single dimensional array \n",
    "data = [1,2,3,4,5,6,7,8,9] \n",
    "info = pd.Series(data)\n",
    "print(info)\n"
   ]
  },
  {
   "cell_type": "code",
   "execution_count": null,
   "id": "f1cffcbe",
   "metadata": {},
   "outputs": [
    {
     "name": "stdout",
     "output_type": "stream",
     "text": [
      "x    1\n",
      "y    2\n",
      "z    3\n",
      "a    4\n",
      "dtype: int64\n"
     ]
    }
   ],
   "source": [
    "'Lable in python they are just like an spical values '\n",
    "\n",
    "import pandas as pd\n",
    "\n",
    "data = [1,2,3,4]\n",
    "\n",
    "info = pd.Series(data , index = [\"x\" , \"y\" , \"z\" , \"a\"])\n",
    "print(info)"
   ]
  },
  {
   "cell_type": "code",
   "execution_count": null,
   "id": "51952084",
   "metadata": {},
   "outputs": [
    {
     "name": "stdout",
     "output_type": "stream",
     "text": [
      "0    <module 'calendar' from 'c:\\\\Users\\\\Lenovo\\\\Ap...\n",
      "dtype: object\n"
     ]
    }
   ],
   "source": [
    "# Key/Value Objects as Series\n",
    "# You can also use a key/value object, like a dictionary, when creating a Series.\n",
    "\n",
    "import pandas as pd\n",
    "import calendar\n",
    "\n",
    "calander = {\n",
    "    \"day 1\" : 20,\n",
    "    \"day 2\" : 25,\n",
    "    \"day3\": 390\n",
    "}\n",
    "info = pd.Series(calander)\n",
    "print(info)\n"
   ]
  },
  {
   "cell_type": "code",
   "execution_count": 17,
   "id": "6ef9d418",
   "metadata": {},
   "outputs": [
    {
     "name": "stdout",
     "output_type": "stream",
     "text": [
      "🧾 Optional DataFrame View:\n",
      "\n"
     ]
    },
    {
     "data": {
      "text/html": [
       "<div>\n",
       "<style scoped>\n",
       "    .dataframe tbody tr th:only-of-type {\n",
       "        vertical-align: middle;\n",
       "    }\n",
       "\n",
       "    .dataframe tbody tr th {\n",
       "        vertical-align: top;\n",
       "    }\n",
       "\n",
       "    .dataframe thead th {\n",
       "        text-align: right;\n",
       "    }\n",
       "</style>\n",
       "<table border=\"1\" class=\"dataframe\">\n",
       "  <thead>\n",
       "    <tr style=\"text-align: right;\">\n",
       "      <th></th>\n",
       "      <th>Temperature (°F)</th>\n",
       "    </tr>\n",
       "  </thead>\n",
       "  <tbody>\n",
       "    <tr>\n",
       "      <th>Sunday</th>\n",
       "      <td>20</td>\n",
       "    </tr>\n",
       "    <tr>\n",
       "      <th>Monday</th>\n",
       "      <td>30</td>\n",
       "    </tr>\n",
       "    <tr>\n",
       "      <th>Tuesday</th>\n",
       "      <td>45</td>\n",
       "    </tr>\n",
       "    <tr>\n",
       "      <th>Wednesday</th>\n",
       "      <td>85</td>\n",
       "    </tr>\n",
       "    <tr>\n",
       "      <th>Thursday</th>\n",
       "      <td>95</td>\n",
       "    </tr>\n",
       "    <tr>\n",
       "      <th>Friday</th>\n",
       "      <td>89</td>\n",
       "    </tr>\n",
       "    <tr>\n",
       "      <th>Saturday</th>\n",
       "      <td>69</td>\n",
       "    </tr>\n",
       "  </tbody>\n",
       "</table>\n",
       "</div>"
      ],
      "text/plain": [
       "           Temperature (°F)\n",
       "Sunday                   20\n",
       "Monday                   30\n",
       "Tuesday                  45\n",
       "Wednesday                85\n",
       "Thursday                 95\n",
       "Friday                   89\n",
       "Saturday                 69"
      ]
     },
     "metadata": {},
     "output_type": "display_data"
    },
    {
     "name": "stdout",
     "output_type": "stream",
     "text": [
      "\n",
      "🌡️ Weekly Temperatures (Pandas Series):\n"
     ]
    },
    {
     "data": {
      "text/plain": [
       "Sunday       20\n",
       "Monday       30\n",
       "Tuesday      45\n",
       "Wednesday    85\n",
       "Thursday     95\n",
       "Friday       89\n",
       "Saturday     69\n",
       "dtype: int64"
      ]
     },
     "metadata": {},
     "output_type": "display_data"
    },
    {
     "name": "stdout",
     "output_type": "stream",
     "text": [
      "\n",
      "📆 Temperatures from Sunday to Friday:\n"
     ]
    },
    {
     "data": {
      "text/plain": [
       "Sunday       20\n",
       "Monday       30\n",
       "Tuesday      45\n",
       "Wednesday    85\n",
       "Thursday     95\n",
       "Friday       89\n",
       "dtype: int64"
      ]
     },
     "metadata": {},
     "output_type": "display_data"
    },
    {
     "name": "stdout",
     "output_type": "stream",
     "text": [
      "\n",
      "📊 Temperature Stats:\n",
      "Average Temp: 61.86 °F\n",
      "Lowest Temp: 20 °F\n",
      "Highest Temp: 95 °F\n",
      "\n",
      "🔍 Days with Extreme Temperatures:\n",
      "Coldest Day: Sunday\n",
      "Hottest Day: Thursday\n"
     ]
    },
    {
     "name": "stderr",
     "output_type": "stream",
     "text": [
      "C:\\Users\\Lenovo\\AppData\\Local\\Temp\\ipykernel_21852\\1907382877.py:53: UserWarning: Glyph 128200 (\\N{CHART WITH UPWARDS TREND}) missing from font(s) DejaVu Sans.\n",
      "  plt.tight_layout()\n",
      "c:\\Users\\Lenovo\\AppData\\Local\\Programs\\Python\\Python312\\Lib\\site-packages\\IPython\\core\\pylabtools.py:152: UserWarning: Glyph 128200 (\\N{CHART WITH UPWARDS TREND}) missing from font(s) DejaVu Sans.\n",
      "  fig.canvas.print_figure(bytes_io, **kw)\n"
     ]
    },
    {
     "data": {
      "image/png": "[encoded data removed]",
      "text/plain": [
       "<Figure size 800x500 with 1 Axes>"
      ]
     },
     "metadata": {},
     "output_type": "display_data"
    }
   ],
   "source": [
    "# Daily Temperature Tracker Project in Pandas\n",
    "\n",
    "import pandas as pd\n",
    "import matplotlib.pyplot as plt\n",
    "\n",
    "# Jupyter magic (optional, only needed once per notebook)\n",
    "%matplotlib inline\n",
    "\n",
    "# Step 1: Create temperatures and days\n",
    "temps = [20, 30, 45, 85, 95, 89, 69]\n",
    "days = [\n",
    "    \"Sunday\",\n",
    "    \"Monday\",\n",
    "    \"Tuesday\",\n",
    "    \"Wednesday\",\n",
    "    \"Thursday\",\n",
    "    \"Friday\",\n",
    "    \"Saturday\"\n",
    "]\n",
    "\n",
    "# Step 2: Optional - View as DataFrame (2D table)\n",
    "optional = pd.DataFrame({'Temperature (°F)': temps}, index=days)\n",
    "print(\"🧾 Optional DataFrame View:\\n\")\n",
    "display(optional)\n",
    "\n",
    "# Step 3: Create a Pandas Series (1D view)\n",
    "temperatures = pd.Series(temps, index=days)\n",
    "\n",
    "print(\"\\n🌡️ Weekly Temperatures (Pandas Series):\")\n",
    "display(temperatures)\n",
    "\n",
    "# Step 4: Slice data - Sunday to Friday\n",
    "print(\"\\n📆 Temperatures from Sunday to Friday:\")\n",
    "display(temperatures[\"Sunday\":\"Friday\"])\n",
    "\n",
    "# Step 5: Basic Stats\n",
    "print(\"\\n📊 Temperature Stats:\")\n",
    "print(\"Average Temp:\", round(temperatures.mean(), 2), \"°F\")\n",
    "print(\"Lowest Temp:\", temperatures.min(), \"°F\")\n",
    "print(\"Highest Temp:\", temperatures.max(), \"°F\")\n",
    "\n",
    "# Step 6: Day with Highest/Lowest Temp\n",
    "print(\"\\n🔍 Days with Extreme Temperatures:\")\n",
    "print(\"Coldest Day:\", temperatures.idxmin())\n",
    "print(\"Hottest Day:\", temperatures.idxmax())\n",
    "\n",
    "# Step 7: Plot the temperature trend\n",
    "plt.figure(figsize=(8, 5))\n",
    "temperatures.plot(kind='line', marker='o', color='tomato', title='📈 Weekly Temperature Trend')\n",
    "plt.xlabel(\"Day of the Week\")\n",
    "plt.ylabel(\"Temperature (°F)\")\n",
    "plt.grid(True)\n",
    "plt.tight_layout()\n",
    "plt.show()\n"
   ]
  }
 ],
 "metadata": {
  "kernelspec": {
   "display_name": "Python 3",
   "language": "python",
   "name": "python3"
  },
  "language_info": {
   "codemirror_mode": {
    "name": "ipython",
    "version": 3
   },
   "file_extension": ".py",
   "mimetype": "text/x-python",
   "name": "python",
   "nbconvert_exporter": "python",
   "pygments_lexer": "ipython3",
   "version": "3.12.5"
  }
 },
 "nbformat": 4,
 "nbformat_minor": 5
}
