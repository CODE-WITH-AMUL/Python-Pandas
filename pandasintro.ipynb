{
 "cells": [
  {
   "cell_type": "code",
   "execution_count": null,
   "id": "b1408ce1",
   "metadata": {},
   "outputs": [
    {
     "data": {
      "text/plain": [
       "'\\n\\nWhat is pandas ?\\nanswer \\n\\n'"
      ]
     },
     "execution_count": 3,
     "metadata": {},
     "output_type": "execute_result"
    }
   ],
   "source": [
    "'''\n",
    "What is pandas ?\n",
    "answer : Pandas is an python library which is used for the Data to Analyzing , Exploring amd Manuplating of data \n",
    "\n",
    "'''"
   ]
  },
  {
   "cell_type": "code",
   "execution_count": 4,
   "id": "82ea8ded",
   "metadata": {},
   "outputs": [
    {
     "name": "stdout",
     "output_type": "stream",
     "text": [
      "    cars    price\n",
      "0    BMW  2500000\n",
      "1  SUPRA    80000\n",
      "2     RR  1000000\n"
     ]
    }
   ],
   "source": [
    "# utf--8 python first code on pandas \n",
    "import pandas as pd\n",
    "\n",
    "data = {\n",
    "    'cars' : ['BMW' , 'SUPRA' , 'RR'],\n",
    "    'price' : [2500000 , 80000, 1000000]\n",
    "}\n",
    "\n",
    "info = pd.DataFrame(data)\n",
    "print(info)"
   ]
  },
  {
   "cell_type": "markdown",
   "id": "018f78b3",
   "metadata": {},
   "source": []
  }
 ],
 "metadata": {
  "kernelspec": {
   "display_name": "Python 3",
   "language": "python",
   "name": "python3"
  },
  "language_info": {
   "codemirror_mode": {
    "name": "ipython",
    "version": 3
   },
   "file_extension": ".py",
   "mimetype": "text/x-python",
   "name": "python",
   "nbconvert_exporter": "python",
   "pygments_lexer": "ipython3",
   "version": "3.12.5"
  }
 },
 "nbformat": 4,
 "nbformat_minor": 5
}
